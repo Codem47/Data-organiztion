{
  "nbformat": 4,
  "nbformat_minor": 0,
  "metadata": {
    "colab": {
      "provenance": [],
      "authorship_tag": "ABX9TyPr8hSwPVAQozsc0NEl5Z1k",
      "include_colab_link": true
    },
    "kernelspec": {
      "name": "python3",
      "display_name": "Python 3"
    },
    "language_info": {
      "name": "python"
    }
  },
  "cells": [
    {
      "cell_type": "markdown",
      "metadata": {
        "id": "view-in-github",
        "colab_type": "text"
      },
      "source": [
        "<a href=\"https://colab.research.google.com/github/Codem47/Data-organiztion/blob/main/data_organization.ipynb\" target=\"_parent\"><img src=\"https://colab.research.google.com/assets/colab-badge.svg\" alt=\"Open In Colab\"/></a>"
      ]
    },
    {
      "cell_type": "markdown",
      "source": [
        "## Separating Data"
      ],
      "metadata": {
        "id": "58Vj4iOFB5bS"
      }
    },
    {
      "cell_type": "markdown",
      "source": [
        "Import Libraries \n"
      ],
      "metadata": {
        "id": "7mOkryIUCcPj"
      }
    },
    {
      "cell_type": "code",
      "execution_count": null,
      "metadata": {
        "id": "SgolhdNt5blO"
      },
      "outputs": [],
      "source": [
        "import pandas as pd\n",
        "import numpy as np\n",
        "\n"
      ]
    },
    {
      "cell_type": "markdown",
      "source": [
        "Pandas library to read in the CSV file as a DataFrame object:"
      ],
      "metadata": {
        "id": "hY9Z6fDCCrqT"
      }
    },
    {
      "cell_type": "code",
      "source": [
        "#Make sure That you uploaded your files into Google collab or in the desired directory \n",
        "#Make Sure that the Directory shown is where your files are locates\n",
        "df = pd.read_csv('/content/1m-PDDS(2023-04-12).csv')\n"
      ],
      "metadata": {
        "id": "nhMcrBiwCo0g"
      },
      "execution_count": null,
      "outputs": []
    },
    {
      "cell_type": "markdown",
      "source": [
        "##Organizing it by location, site, and plot. \n"
      ],
      "metadata": {
        "id": "92YYU_TrDd37"
      }
    },
    {
      "cell_type": "markdown",
      "source": [
        "Sort Data Frames"
      ],
      "metadata": {
        "id": "8-8KnZJERW9s"
      }
    },
    {
      "cell_type": "code",
      "source": [
        "#Sorting data based on these variables\n",
        "df = df.sort_values(by=['Location', 'Site', 'Plot','Subplot'])\n"
      ],
      "metadata": {
        "id": "WHiLbk2NHATM"
      },
      "execution_count": null,
      "outputs": []
    },
    {
      "cell_type": "code",
      "source": [
        "#print out sorted data\n",
        "print(df_sorted)\n",
        "print(df_sorted.head())"
      ],
      "metadata": {
        "colab": {
          "base_uri": "https://localhost:8080/"
        },
        "id": "PAnRYI_fRKVw",
        "outputId": "2414d6fd-73d9-4702-e6ec-61be2d27c532"
      },
      "execution_count": null,
      "outputs": [
        {
          "output_type": "stream",
          "name": "stdout",
          "text": [
            "                IP        Submission ID      Submission Date Location  Plot  \\\n",
            "30  184.185.222.15  5563380795125650360  2023-04-03 09:34:39     TREC    Ag   \n",
            "29  184.185.222.15  5563380795126223315  2023-04-03 09:34:39     TREC    Ag   \n",
            "5    184.185.222.8  5572025558227944054  2023-04-13 09:42:35     TREC    Ag   \n",
            "6    184.185.222.8  5572024758226241209  2023-04-13 09:41:15     TREC    Ag   \n",
            "24  184.185.222.15  5563380925125585639  2023-04-03 09:34:52     TREC    Ag   \n",
            "..             ...                  ...                  ...      ...   ...   \n",
            "33  184.185.222.15  5563380715127947788  2023-04-03 09:34:31     TREC  Lawn   \n",
            "35  184.185.222.15  5563380715123782815  2023-04-03 09:34:31     TREC  Lawn   \n",
            "28  184.185.222.15  5563380795128049975  2023-04-03 09:34:39     TREC  Lawn   \n",
            "31  184.185.222.15  5563380795125259559  2023-04-03 09:34:39     TREC  Lawn   \n",
            "32  184.185.222.15  5563380795122874089  2023-04-03 09:34:39     TREC  Lawn   \n",
            "\n",
            "    Subplot  Block Site Measured By: Recorded By:  ... Rock Wood  Litter  \\\n",
            "30   31.1.1      4   FO         Cgm            Dc  ...   40    0       1   \n",
            "29   31.4.1      4   FO          Cgm           Dc  ...   40    0       0   \n",
            "5    32.2.1      4   FO          CGM           DC  ...   40    0       1   \n",
            "6    32.4.1      4   FO          CGM           DC  ...   40    0       1   \n",
            "24   40.1.1      4   FO          Cgm           Dc  ...   40    0       1   \n",
            "..      ...    ...  ...          ...          ...  ...  ...  ...     ...   \n",
            "33   32.4.1      2   VF         Cgm            Dc  ...   30    0      30   \n",
            "35   40.1.1      2   VF          Cgm           Dc  ...   30    0      30   \n",
            "28  40.3.1       2   VF         Cgm            Dc  ...   10    0      30   \n",
            "31   41.1.1      2   VF          Cgm           Dc  ...    5    0      30   \n",
            "32   41.4.1      2   VF         Cgm            Dc  ...   15    0      30   \n",
            "\n",
            "    Standing Dead  Lichen  Water  Moss  Other Non-Vacular  Scat  Any Remarks?  \n",
            "30              0       0      0     0                  1   0.0           NaN  \n",
            "29              0       0      0     0                  1   0.0           NaN  \n",
            "5               0       0      0     0                  1   0.0           NaN  \n",
            "6               0       0      0     0                  1   0.0           NaN  \n",
            "24              0       0      0     0                  0   0.0           NaN  \n",
            "..            ...     ...    ...   ...                ...   ...           ...  \n",
            "33              0       0      0     0                  5   0.0           NaN  \n",
            "35              0       0      0     0                  3   0.0           NaN  \n",
            "28              0       0      0     0                 10   0.0           NaN  \n",
            "31              0       0      0     0                  1   0.0           NaN  \n",
            "32              0       0      0     0                 10   0.0           NaN  \n",
            "\n",
            "[65 rows x 23 columns]\n",
            "                IP        Submission ID      Submission Date Location Plot  \\\n",
            "30  184.185.222.15  5563380795125650360  2023-04-03 09:34:39     TREC   Ag   \n",
            "29  184.185.222.15  5563380795126223315  2023-04-03 09:34:39     TREC   Ag   \n",
            "5    184.185.222.8  5572025558227944054  2023-04-13 09:42:35     TREC   Ag   \n",
            "6    184.185.222.8  5572024758226241209  2023-04-13 09:41:15     TREC   Ag   \n",
            "24  184.185.222.15  5563380925125585639  2023-04-03 09:34:52     TREC   Ag   \n",
            "\n",
            "   Subplot  Block Site Measured By: Recorded By:  ... Rock Wood  Litter  \\\n",
            "30  31.1.1      4   FO         Cgm            Dc  ...   40    0       1   \n",
            "29  31.4.1      4   FO          Cgm           Dc  ...   40    0       0   \n",
            "5   32.2.1      4   FO          CGM           DC  ...   40    0       1   \n",
            "6   32.4.1      4   FO          CGM           DC  ...   40    0       1   \n",
            "24  40.1.1      4   FO          Cgm           Dc  ...   40    0       1   \n",
            "\n",
            "    Standing Dead  Lichen  Water  Moss  Other Non-Vacular  Scat  Any Remarks?  \n",
            "30              0       0      0     0                  1   0.0           NaN  \n",
            "29              0       0      0     0                  1   0.0           NaN  \n",
            "5               0       0      0     0                  1   0.0           NaN  \n",
            "6               0       0      0     0                  1   0.0           NaN  \n",
            "24              0       0      0     0                  0   0.0           NaN  \n",
            "\n",
            "[5 rows x 23 columns]\n"
          ]
        }
      ]
    },
    {
      "cell_type": "markdown",
      "source": [
        "Grouping Data"
      ],
      "metadata": {
        "id": "7Na2MPjFRhPh"
      }
    },
    {
      "cell_type": "code",
      "source": [
        "\n",
        "grouped_df = df.groupby(['Location', 'Site', 'Plot','Subplot'])\n"
      ],
      "metadata": {
        "id": "E188wCBBHDP4"
      },
      "execution_count": null,
      "outputs": []
    },
    {
      "cell_type": "markdown",
      "source": [
        "Group Size"
      ],
      "metadata": {
        "id": "IH1zXGtIRk_q"
      }
    },
    {
      "cell_type": "code",
      "source": [
        "grouped_df.size()\n"
      ],
      "metadata": {
        "colab": {
          "base_uri": "https://localhost:8080/"
        },
        "id": "FWxcRtyMHFIJ",
        "outputId": "20b3f945-fb32-46b2-b010-549829927e47"
      },
      "execution_count": null,
      "outputs": [
        {
          "output_type": "execute_result",
          "data": {
            "text/plain": [
              "Location  Site  Plot  Subplot\n",
              "TREC      FO    Ag    31.1.1     1\n",
              "                      31.4.1     1\n",
              "                      32.2.1     1\n",
              "                      32.4.1     1\n",
              "                      40.1.1     1\n",
              "                                ..\n",
              "          VF    Lawn  32.4.1     1\n",
              "                      40.1.1     1\n",
              "                      40.3.1     1\n",
              "                      41.1.1     1\n",
              "                      41.4.1     1\n",
              "Length: 65, dtype: int64"
            ]
          },
          "metadata": {},
          "execution_count": 32
        }
      ]
    },
    {
      "cell_type": "markdown",
      "source": [
        "Grouping and Download in groups of \"Location, Site, Plot\" Variables"
      ],
      "metadata": {
        "id": "a4n-27MSRm_f"
      }
    },
    {
      "cell_type": "code",
      "source": [
        "# Grouping Data in groups based on Location, Site, and Plot for download\n",
        "grouped = df_sorted.groupby(['Location', 'Site', 'Plot'])\n",
        "\n",
        "for name, group in grouped:\n",
        "    filename = f\"{name[0]}_{name[1]}_{name[2]}.csv\"\n",
        "    group.to_csv(filename, index=False)\n",
        "\n"
      ],
      "metadata": {
        "id": "Seh9nNiDHUYU"
      },
      "execution_count": null,
      "outputs": []
    }
  ]
}